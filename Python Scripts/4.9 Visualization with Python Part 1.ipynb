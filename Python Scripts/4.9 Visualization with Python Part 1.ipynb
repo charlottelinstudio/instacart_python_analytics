{
 "cells": [
  {
   "cell_type": "markdown",
   "id": "29d9f0b9-28c1-46f6-b7af-c0c713a50172",
   "metadata": {},
   "source": [
    "# Import Libraries"
   ]
  },
  {
   "cell_type": "code",
   "execution_count": 1,
   "id": "f06acfd7-449c-4809-a316-aa5b1ef332cc",
   "metadata": {},
   "outputs": [],
   "source": [
    "import pandas as pd\n",
    "import numpy as np\n",
    "import os"
   ]
  },
  {
   "cell_type": "markdown",
   "id": "c6d71dda-05e3-4037-8304-eaa7fbec3781",
   "metadata": {},
   "source": [
    "# Create Path and Import New 'Customers' data"
   ]
  },
  {
   "cell_type": "code",
   "execution_count": 2,
   "id": "75fb7778-47a8-46ef-bdc1-cf26c19ffca2",
   "metadata": {},
   "outputs": [],
   "source": [
    "# Create path\n",
    "path = \"/Users/charlottelin/Documents/06-2025 Instacart Basket Analysis\""
   ]
  },
  {
   "cell_type": "code",
   "execution_count": 3,
   "id": "fec740eb-59d6-46d8-a418-023589b49024",
   "metadata": {},
   "outputs": [],
   "source": [
    "# Import the customers data\n",
    "df_customers = pd.read_csv(os.path.join(path, '02 Data', 'Original Data', 'customers.csv'), index_col = False)"
   ]
  },
  {
   "cell_type": "code",
   "execution_count": 4,
   "id": "93f3238a-225a-49bc-ae45-ba65c6abfe93",
   "metadata": {},
   "outputs": [
    {
     "data": {
      "text/plain": [
       "(206209, 10)"
      ]
     },
     "execution_count": 4,
     "metadata": {},
     "output_type": "execute_result"
    }
   ],
   "source": [
    "# Check dataset \n",
    "df_customers.shape"
   ]
  },
  {
   "cell_type": "markdown",
   "id": "d61a7bbb-aaeb-46af-8d06-e9dccad24c9c",
   "metadata": {},
   "source": [
    "# Step 4 - Wrangle 'customers' Data"
   ]
  },
  {
   "cell_type": "code",
   "execution_count": 5,
   "id": "fe164e6f-00b2-4608-a745-37637e8445d0",
   "metadata": {},
   "outputs": [
    {
     "data": {
      "text/html": [
       "<div>\n",
       "<style scoped>\n",
       "    .dataframe tbody tr th:only-of-type {\n",
       "        vertical-align: middle;\n",
       "    }\n",
       "\n",
       "    .dataframe tbody tr th {\n",
       "        vertical-align: top;\n",
       "    }\n",
       "\n",
       "    .dataframe thead th {\n",
       "        text-align: right;\n",
       "    }\n",
       "</style>\n",
       "<table border=\"1\" class=\"dataframe\">\n",
       "  <thead>\n",
       "    <tr style=\"text-align: right;\">\n",
       "      <th></th>\n",
       "      <th>user_id</th>\n",
       "      <th>First Name</th>\n",
       "      <th>Surnam</th>\n",
       "      <th>Gender</th>\n",
       "      <th>STATE</th>\n",
       "      <th>Age</th>\n",
       "      <th>date_joined</th>\n",
       "      <th>n_dependants</th>\n",
       "      <th>fam_status</th>\n",
       "      <th>income</th>\n",
       "    </tr>\n",
       "  </thead>\n",
       "  <tbody>\n",
       "    <tr>\n",
       "      <th>0</th>\n",
       "      <td>26711</td>\n",
       "      <td>Deborah</td>\n",
       "      <td>Esquivel</td>\n",
       "      <td>Female</td>\n",
       "      <td>Missouri</td>\n",
       "      <td>48</td>\n",
       "      <td>1/1/2017</td>\n",
       "      <td>3</td>\n",
       "      <td>married</td>\n",
       "      <td>165665</td>\n",
       "    </tr>\n",
       "    <tr>\n",
       "      <th>1</th>\n",
       "      <td>33890</td>\n",
       "      <td>Patricia</td>\n",
       "      <td>Hart</td>\n",
       "      <td>Female</td>\n",
       "      <td>New Mexico</td>\n",
       "      <td>36</td>\n",
       "      <td>1/1/2017</td>\n",
       "      <td>0</td>\n",
       "      <td>single</td>\n",
       "      <td>59285</td>\n",
       "    </tr>\n",
       "    <tr>\n",
       "      <th>2</th>\n",
       "      <td>65803</td>\n",
       "      <td>Kenneth</td>\n",
       "      <td>Farley</td>\n",
       "      <td>Male</td>\n",
       "      <td>Idaho</td>\n",
       "      <td>35</td>\n",
       "      <td>1/1/2017</td>\n",
       "      <td>2</td>\n",
       "      <td>married</td>\n",
       "      <td>99568</td>\n",
       "    </tr>\n",
       "    <tr>\n",
       "      <th>3</th>\n",
       "      <td>125935</td>\n",
       "      <td>Michelle</td>\n",
       "      <td>Hicks</td>\n",
       "      <td>Female</td>\n",
       "      <td>Iowa</td>\n",
       "      <td>40</td>\n",
       "      <td>1/1/2017</td>\n",
       "      <td>0</td>\n",
       "      <td>single</td>\n",
       "      <td>42049</td>\n",
       "    </tr>\n",
       "    <tr>\n",
       "      <th>4</th>\n",
       "      <td>130797</td>\n",
       "      <td>Ann</td>\n",
       "      <td>Gilmore</td>\n",
       "      <td>Female</td>\n",
       "      <td>Maryland</td>\n",
       "      <td>26</td>\n",
       "      <td>1/1/2017</td>\n",
       "      <td>1</td>\n",
       "      <td>married</td>\n",
       "      <td>40374</td>\n",
       "    </tr>\n",
       "  </tbody>\n",
       "</table>\n",
       "</div>"
      ],
      "text/plain": [
       "   user_id First Name    Surnam  Gender       STATE  Age date_joined  \\\n",
       "0    26711    Deborah  Esquivel  Female    Missouri   48    1/1/2017   \n",
       "1    33890   Patricia      Hart  Female  New Mexico   36    1/1/2017   \n",
       "2    65803    Kenneth    Farley    Male       Idaho   35    1/1/2017   \n",
       "3   125935   Michelle     Hicks  Female        Iowa   40    1/1/2017   \n",
       "4   130797        Ann   Gilmore  Female    Maryland   26    1/1/2017   \n",
       "\n",
       "   n_dependants fam_status  income  \n",
       "0             3    married  165665  \n",
       "1             0     single   59285  \n",
       "2             2    married   99568  \n",
       "3             0     single   42049  \n",
       "4             1    married   40374  "
      ]
     },
     "execution_count": 5,
     "metadata": {},
     "output_type": "execute_result"
    }
   ],
   "source": [
    "# Investigate column names\n",
    "df_customers.head()"
   ]
  },
  {
   "cell_type": "markdown",
   "id": "a9c4a52b-d54e-4eee-9cbf-c42aca095360",
   "metadata": {},
   "source": [
    "#### Observation: based on the output, I would take the following wrangling actions:\n",
    "- standardize column names to all lowercase for consistency and readability\n",
    "- make sure to remove all whitespace\n",
    "- change the date_joined date format to a 'datetime' format that's more friendly for filtering"
   ]
  },
  {
   "cell_type": "code",
   "execution_count": 6,
   "id": "e6c0b8c7-27a8-47ae-ab6f-744fb9ae18a5",
   "metadata": {},
   "outputs": [],
   "source": [
    "# Improve column consistency and readability\n",
    "df_customers.rename(columns={\n",
    "    'First Name': 'first_name',\n",
    "    'Surname': 'surname',\n",
    "    'Gender': 'gender',\n",
    "    'STATE': 'state',\n",
    "    'Age': 'age',\n",
    "    'date_joined': 'date_joined',\n",
    "    'n_dependants': 'num_dependents',\n",
    "    'fam_status': 'marital_status',\n",
    "    'income': 'income'\n",
    "}, inplace=True)"
   ]
  },
  {
   "cell_type": "code",
   "execution_count": 7,
   "id": "a37d845d-9ea0-4b04-ae6f-3ba0b69b0ac9",
   "metadata": {},
   "outputs": [],
   "source": [
    "# Change date format in date_joined\n",
    "df_customers['date_joined'] = pd.to_datetime(df_customers['date_joined'])"
   ]
  },
  {
   "cell_type": "code",
   "execution_count": 8,
   "id": "5e35eedc-76ca-4edf-bcd1-8c4683b2712c",
   "metadata": {},
   "outputs": [
    {
     "data": {
      "text/html": [
       "<div>\n",
       "<style scoped>\n",
       "    .dataframe tbody tr th:only-of-type {\n",
       "        vertical-align: middle;\n",
       "    }\n",
       "\n",
       "    .dataframe tbody tr th {\n",
       "        vertical-align: top;\n",
       "    }\n",
       "\n",
       "    .dataframe thead th {\n",
       "        text-align: right;\n",
       "    }\n",
       "</style>\n",
       "<table border=\"1\" class=\"dataframe\">\n",
       "  <thead>\n",
       "    <tr style=\"text-align: right;\">\n",
       "      <th></th>\n",
       "      <th>user_id</th>\n",
       "      <th>first_name</th>\n",
       "      <th>Surnam</th>\n",
       "      <th>gender</th>\n",
       "      <th>state</th>\n",
       "      <th>age</th>\n",
       "      <th>date_joined</th>\n",
       "      <th>num_dependents</th>\n",
       "      <th>marital_status</th>\n",
       "      <th>income</th>\n",
       "    </tr>\n",
       "  </thead>\n",
       "  <tbody>\n",
       "    <tr>\n",
       "      <th>0</th>\n",
       "      <td>26711</td>\n",
       "      <td>Deborah</td>\n",
       "      <td>Esquivel</td>\n",
       "      <td>Female</td>\n",
       "      <td>Missouri</td>\n",
       "      <td>48</td>\n",
       "      <td>2017-01-01</td>\n",
       "      <td>3</td>\n",
       "      <td>married</td>\n",
       "      <td>165665</td>\n",
       "    </tr>\n",
       "    <tr>\n",
       "      <th>1</th>\n",
       "      <td>33890</td>\n",
       "      <td>Patricia</td>\n",
       "      <td>Hart</td>\n",
       "      <td>Female</td>\n",
       "      <td>New Mexico</td>\n",
       "      <td>36</td>\n",
       "      <td>2017-01-01</td>\n",
       "      <td>0</td>\n",
       "      <td>single</td>\n",
       "      <td>59285</td>\n",
       "    </tr>\n",
       "    <tr>\n",
       "      <th>2</th>\n",
       "      <td>65803</td>\n",
       "      <td>Kenneth</td>\n",
       "      <td>Farley</td>\n",
       "      <td>Male</td>\n",
       "      <td>Idaho</td>\n",
       "      <td>35</td>\n",
       "      <td>2017-01-01</td>\n",
       "      <td>2</td>\n",
       "      <td>married</td>\n",
       "      <td>99568</td>\n",
       "    </tr>\n",
       "    <tr>\n",
       "      <th>3</th>\n",
       "      <td>125935</td>\n",
       "      <td>Michelle</td>\n",
       "      <td>Hicks</td>\n",
       "      <td>Female</td>\n",
       "      <td>Iowa</td>\n",
       "      <td>40</td>\n",
       "      <td>2017-01-01</td>\n",
       "      <td>0</td>\n",
       "      <td>single</td>\n",
       "      <td>42049</td>\n",
       "    </tr>\n",
       "    <tr>\n",
       "      <th>4</th>\n",
       "      <td>130797</td>\n",
       "      <td>Ann</td>\n",
       "      <td>Gilmore</td>\n",
       "      <td>Female</td>\n",
       "      <td>Maryland</td>\n",
       "      <td>26</td>\n",
       "      <td>2017-01-01</td>\n",
       "      <td>1</td>\n",
       "      <td>married</td>\n",
       "      <td>40374</td>\n",
       "    </tr>\n",
       "  </tbody>\n",
       "</table>\n",
       "</div>"
      ],
      "text/plain": [
       "   user_id first_name    Surnam  gender       state  age date_joined  \\\n",
       "0    26711    Deborah  Esquivel  Female    Missouri   48  2017-01-01   \n",
       "1    33890   Patricia      Hart  Female  New Mexico   36  2017-01-01   \n",
       "2    65803    Kenneth    Farley    Male       Idaho   35  2017-01-01   \n",
       "3   125935   Michelle     Hicks  Female        Iowa   40  2017-01-01   \n",
       "4   130797        Ann   Gilmore  Female    Maryland   26  2017-01-01   \n",
       "\n",
       "   num_dependents marital_status  income  \n",
       "0               3        married  165665  \n",
       "1               0         single   59285  \n",
       "2               2        married   99568  \n",
       "3               0         single   42049  \n",
       "4               1        married   40374  "
      ]
     },
     "execution_count": 8,
     "metadata": {},
     "output_type": "execute_result"
    }
   ],
   "source": [
    "# Check output\n",
    "df_customers.head()"
   ]
  },
  {
   "cell_type": "code",
   "execution_count": 9,
   "id": "f6a0d4eb-34f7-4e6d-9228-3d40cea0bb86",
   "metadata": {},
   "outputs": [
    {
     "data": {
      "text/plain": [
       "user_id                    int64\n",
       "first_name                object\n",
       "Surnam                    object\n",
       "gender                    object\n",
       "state                     object\n",
       "age                        int64\n",
       "date_joined       datetime64[ns]\n",
       "num_dependents             int64\n",
       "marital_status            object\n",
       "income                     int64\n",
       "dtype: object"
      ]
     },
     "execution_count": 9,
     "metadata": {},
     "output_type": "execute_result"
    }
   ],
   "source": [
    "# Investigate Data Types\n",
    "df_customers.dtypes"
   ]
  },
  {
   "cell_type": "markdown",
   "id": "072f63cf-2c3f-4236-9685-7ef783d5ac67",
   "metadata": {},
   "source": [
    "#### Observation: 'user_id' is currently an integer; however, user ID is an identifier, not a quantity. Therefore, it is best to change it to a string to help avoid misinterpretation."
   ]
  },
  {
   "cell_type": "code",
   "execution_count": 10,
   "id": "5057a39c-88ae-477a-a476-c50f49dcfdff",
   "metadata": {},
   "outputs": [],
   "source": [
    "df_customers['user_id'] = df_customers['user_id'].astype('str')"
   ]
  },
  {
   "cell_type": "code",
   "execution_count": 11,
   "id": "79b42e91-d428-442e-8cf6-33bc698cd5db",
   "metadata": {},
   "outputs": [
    {
     "data": {
      "text/plain": [
       "dtype('O')"
      ]
     },
     "execution_count": 11,
     "metadata": {},
     "output_type": "execute_result"
    }
   ],
   "source": [
    "# Check output\n",
    "df_customers['user_id'].dtype"
   ]
  },
  {
   "cell_type": "markdown",
   "id": "101e3213-7786-4480-aecc-5b198da1b774",
   "metadata": {},
   "source": [
    "#### Wrangling conclusion:\n",
    "- I reviewed all columns in the dataset and found each one relevant to the analysis objectives. Therefore, I will not be dropping any columns at this stage.\n",
    "- Transposing the data is also unnecessary, as the current structure is well-suited for analysis.\n",
    "- All columns are now named with consistency and have appropriate data types."
   ]
  },
  {
   "cell_type": "markdown",
   "id": "cfbfb26a-2b32-456d-9c26-5e4540511d04",
   "metadata": {},
   "source": [
    "# Step 5 - Data Quality & Consistency Checks"
   ]
  },
  {
   "cell_type": "markdown",
   "id": "ce10e37b-39ed-410f-8771-e67e317f100e",
   "metadata": {},
   "source": [
    "#### <b>Summary Statistics</b>"
   ]
  },
  {
   "cell_type": "code",
   "execution_count": 12,
   "id": "6c1c4cf5-1673-4b41-959e-f23117902b2a",
   "metadata": {},
   "outputs": [
    {
     "data": {
      "text/html": [
       "<div>\n",
       "<style scoped>\n",
       "    .dataframe tbody tr th:only-of-type {\n",
       "        vertical-align: middle;\n",
       "    }\n",
       "\n",
       "    .dataframe tbody tr th {\n",
       "        vertical-align: top;\n",
       "    }\n",
       "\n",
       "    .dataframe thead th {\n",
       "        text-align: right;\n",
       "    }\n",
       "</style>\n",
       "<table border=\"1\" class=\"dataframe\">\n",
       "  <thead>\n",
       "    <tr style=\"text-align: right;\">\n",
       "      <th></th>\n",
       "      <th>age</th>\n",
       "      <th>date_joined</th>\n",
       "      <th>num_dependents</th>\n",
       "      <th>income</th>\n",
       "    </tr>\n",
       "  </thead>\n",
       "  <tbody>\n",
       "    <tr>\n",
       "      <th>count</th>\n",
       "      <td>206209.000000</td>\n",
       "      <td>206209</td>\n",
       "      <td>206209.000000</td>\n",
       "      <td>206209.000000</td>\n",
       "    </tr>\n",
       "    <tr>\n",
       "      <th>mean</th>\n",
       "      <td>49.501646</td>\n",
       "      <td>2018-08-17 03:06:30.029532928</td>\n",
       "      <td>1.499823</td>\n",
       "      <td>94632.852548</td>\n",
       "    </tr>\n",
       "    <tr>\n",
       "      <th>min</th>\n",
       "      <td>18.000000</td>\n",
       "      <td>2017-01-01 00:00:00</td>\n",
       "      <td>0.000000</td>\n",
       "      <td>25903.000000</td>\n",
       "    </tr>\n",
       "    <tr>\n",
       "      <th>25%</th>\n",
       "      <td>33.000000</td>\n",
       "      <td>2017-10-23 00:00:00</td>\n",
       "      <td>0.000000</td>\n",
       "      <td>59874.000000</td>\n",
       "    </tr>\n",
       "    <tr>\n",
       "      <th>50%</th>\n",
       "      <td>49.000000</td>\n",
       "      <td>2018-08-16 00:00:00</td>\n",
       "      <td>1.000000</td>\n",
       "      <td>93547.000000</td>\n",
       "    </tr>\n",
       "    <tr>\n",
       "      <th>75%</th>\n",
       "      <td>66.000000</td>\n",
       "      <td>2019-06-10 00:00:00</td>\n",
       "      <td>3.000000</td>\n",
       "      <td>124244.000000</td>\n",
       "    </tr>\n",
       "    <tr>\n",
       "      <th>max</th>\n",
       "      <td>81.000000</td>\n",
       "      <td>2020-04-01 00:00:00</td>\n",
       "      <td>3.000000</td>\n",
       "      <td>593901.000000</td>\n",
       "    </tr>\n",
       "    <tr>\n",
       "      <th>std</th>\n",
       "      <td>18.480962</td>\n",
       "      <td>NaN</td>\n",
       "      <td>1.118433</td>\n",
       "      <td>42473.786988</td>\n",
       "    </tr>\n",
       "  </tbody>\n",
       "</table>\n",
       "</div>"
      ],
      "text/plain": [
       "                 age                    date_joined  num_dependents  \\\n",
       "count  206209.000000                         206209   206209.000000   \n",
       "mean       49.501646  2018-08-17 03:06:30.029532928        1.499823   \n",
       "min        18.000000            2017-01-01 00:00:00        0.000000   \n",
       "25%        33.000000            2017-10-23 00:00:00        0.000000   \n",
       "50%        49.000000            2018-08-16 00:00:00        1.000000   \n",
       "75%        66.000000            2019-06-10 00:00:00        3.000000   \n",
       "max        81.000000            2020-04-01 00:00:00        3.000000   \n",
       "std        18.480962                            NaN        1.118433   \n",
       "\n",
       "              income  \n",
       "count  206209.000000  \n",
       "mean    94632.852548  \n",
       "min     25903.000000  \n",
       "25%     59874.000000  \n",
       "50%     93547.000000  \n",
       "75%    124244.000000  \n",
       "max    593901.000000  \n",
       "std     42473.786988  "
      ]
     },
     "execution_count": 12,
     "metadata": {},
     "output_type": "execute_result"
    }
   ],
   "source": [
    "# Investigate summary statistics\n",
    "df_customers.describe()"
   ]
  },
  {
   "cell_type": "markdown",
   "id": "e6c423ac-b7cf-41bf-9087-ae1affa2ddae",
   "metadata": {},
   "source": [
    "#### Observation: the summary stats appear reasonable. I don't spot any outliers or unexpected ranges."
   ]
  },
  {
   "cell_type": "markdown",
   "id": "12548be2-92d3-4602-8054-88770b4b5c31",
   "metadata": {},
   "source": [
    "#### <b>Mixed-Type Data Check</b>"
   ]
  },
  {
   "cell_type": "code",
   "execution_count": 13,
   "id": "90d578f6-dcb2-44c9-9054-db38892707ee",
   "metadata": {},
   "outputs": [
    {
     "name": "stderr",
     "output_type": "stream",
     "text": [
      "/var/folders/t0/dyr0vh9d10q4v8pztlwjgtkh0000gn/T/ipykernel_2399/409413604.py:3: FutureWarning: DataFrame.applymap has been deprecated. Use DataFrame.map instead.\n",
      "  weird = (df_customers[[col]].applymap(type) != df_customers\n",
      "/var/folders/t0/dyr0vh9d10q4v8pztlwjgtkh0000gn/T/ipykernel_2399/409413604.py:3: FutureWarning: DataFrame.applymap has been deprecated. Use DataFrame.map instead.\n",
      "  weird = (df_customers[[col]].applymap(type) != df_customers\n",
      "/var/folders/t0/dyr0vh9d10q4v8pztlwjgtkh0000gn/T/ipykernel_2399/409413604.py:3: FutureWarning: DataFrame.applymap has been deprecated. Use DataFrame.map instead.\n",
      "  weird = (df_customers[[col]].applymap(type) != df_customers\n",
      "/var/folders/t0/dyr0vh9d10q4v8pztlwjgtkh0000gn/T/ipykernel_2399/409413604.py:3: FutureWarning: DataFrame.applymap has been deprecated. Use DataFrame.map instead.\n",
      "  weird = (df_customers[[col]].applymap(type) != df_customers\n",
      "/var/folders/t0/dyr0vh9d10q4v8pztlwjgtkh0000gn/T/ipykernel_2399/409413604.py:3: FutureWarning: DataFrame.applymap has been deprecated. Use DataFrame.map instead.\n",
      "  weird = (df_customers[[col]].applymap(type) != df_customers\n",
      "/var/folders/t0/dyr0vh9d10q4v8pztlwjgtkh0000gn/T/ipykernel_2399/409413604.py:3: FutureWarning: DataFrame.applymap has been deprecated. Use DataFrame.map instead.\n",
      "  weird = (df_customers[[col]].applymap(type) != df_customers\n",
      "/var/folders/t0/dyr0vh9d10q4v8pztlwjgtkh0000gn/T/ipykernel_2399/409413604.py:3: FutureWarning: DataFrame.applymap has been deprecated. Use DataFrame.map instead.\n",
      "  weird = (df_customers[[col]].applymap(type) != df_customers\n"
     ]
    },
    {
     "name": "stdout",
     "output_type": "stream",
     "text": [
      "first_name\n"
     ]
    },
    {
     "name": "stderr",
     "output_type": "stream",
     "text": [
      "/var/folders/t0/dyr0vh9d10q4v8pztlwjgtkh0000gn/T/ipykernel_2399/409413604.py:3: FutureWarning: DataFrame.applymap has been deprecated. Use DataFrame.map instead.\n",
      "  weird = (df_customers[[col]].applymap(type) != df_customers\n",
      "/var/folders/t0/dyr0vh9d10q4v8pztlwjgtkh0000gn/T/ipykernel_2399/409413604.py:3: FutureWarning: DataFrame.applymap has been deprecated. Use DataFrame.map instead.\n",
      "  weird = (df_customers[[col]].applymap(type) != df_customers\n",
      "/var/folders/t0/dyr0vh9d10q4v8pztlwjgtkh0000gn/T/ipykernel_2399/409413604.py:3: FutureWarning: DataFrame.applymap has been deprecated. Use DataFrame.map instead.\n",
      "  weird = (df_customers[[col]].applymap(type) != df_customers\n"
     ]
    }
   ],
   "source": [
    "# Check for any columns with mixed-type data\n",
    "for col in df_customers.columns.tolist():\n",
    "    weird = (df_customers[[col]].applymap(type) != df_customers\n",
    "             [[col]].iloc[0].apply(type)).any(axis = 1)\n",
    "    if len(df_customers[weird]) > 0:\n",
    "        print(col)"
   ]
  },
  {
   "cell_type": "markdown",
   "id": "82ea940a-1fb4-4540-8c29-c3ca4cf5c6b5",
   "metadata": {},
   "source": [
    "#### Observation: I will stop using applymap() on a dataframe for a smoother workflow with pandas. As 'first_name' was flagged, I will proceed to fix its data types."
   ]
  },
  {
   "cell_type": "code",
   "execution_count": 14,
   "id": "9453a1ac-52f4-4f9a-bcb5-19dd38b99816",
   "metadata": {},
   "outputs": [],
   "source": [
    "df_customers['first_name'] = df_customers['first_name'].astype('str')"
   ]
  },
  {
   "cell_type": "code",
   "execution_count": 15,
   "id": "a37613bc-d370-458b-a787-2f6fb4a83c38",
   "metadata": {},
   "outputs": [
    {
     "data": {
      "text/plain": [
       "dtype('O')"
      ]
     },
     "execution_count": 15,
     "metadata": {},
     "output_type": "execute_result"
    }
   ],
   "source": [
    "# Check output\n",
    "df_customers['first_name'].dtype"
   ]
  },
  {
   "cell_type": "code",
   "execution_count": 16,
   "id": "6a526cb7-88ca-4960-a2a3-0acd35f35869",
   "metadata": {},
   "outputs": [],
   "source": [
    "# Conduct a second check with updated code\n",
    "for col in df_customers.columns.tolist():\n",
    "    weird = (df_customers[[col]].map(type) != df_customers\n",
    "             [[col]].iloc[0].apply(type)).any(axis = 1)\n",
    "    if len(df_customers[weird]) > 0:\n",
    "        print(col)"
   ]
  },
  {
   "cell_type": "markdown",
   "id": "2ac6cab7-c5e9-4b6a-9dd9-595d6793d4f3",
   "metadata": {},
   "source": [
    "#### Observation: This check returned nothing so we're good to proceed."
   ]
  },
  {
   "cell_type": "markdown",
   "id": "9e52847d-84bf-43f4-be80-90ff8e8e7df3",
   "metadata": {},
   "source": [
    "#### <b>Check for Missing Values</b>"
   ]
  },
  {
   "cell_type": "code",
   "execution_count": 17,
   "id": "b8bfe641-56d5-42e1-8747-2478244c5763",
   "metadata": {},
   "outputs": [
    {
     "data": {
      "text/plain": [
       "user_id           0\n",
       "first_name        0\n",
       "Surnam            0\n",
       "gender            0\n",
       "state             0\n",
       "age               0\n",
       "date_joined       0\n",
       "num_dependents    0\n",
       "marital_status    0\n",
       "income            0\n",
       "dtype: int64"
      ]
     },
     "execution_count": 17,
     "metadata": {},
     "output_type": "execute_result"
    }
   ],
   "source": [
    "df_customers.isnull().sum()"
   ]
  },
  {
   "cell_type": "markdown",
   "id": "54529cab-b4f1-4a91-ac88-f4e6fefa7d22",
   "metadata": {},
   "source": [
    "#### Observation: There are no missing values in this dataframe."
   ]
  },
  {
   "cell_type": "markdown",
   "id": "82ff0b49-eb98-4945-9d97-8e14f53c5c97",
   "metadata": {},
   "source": [
    "#### <b>Check for Duplicates</b>"
   ]
  },
  {
   "cell_type": "code",
   "execution_count": 18,
   "id": "14d32fd7-e2ba-4632-a6c1-82aaa4341d8a",
   "metadata": {},
   "outputs": [],
   "source": [
    "df_dups = df_customers[df_customers.duplicated()]"
   ]
  },
  {
   "cell_type": "code",
   "execution_count": 19,
   "id": "e41ed889-c935-4186-bcfc-b6918b7e99eb",
   "metadata": {},
   "outputs": [
    {
     "data": {
      "text/html": [
       "<div>\n",
       "<style scoped>\n",
       "    .dataframe tbody tr th:only-of-type {\n",
       "        vertical-align: middle;\n",
       "    }\n",
       "\n",
       "    .dataframe tbody tr th {\n",
       "        vertical-align: top;\n",
       "    }\n",
       "\n",
       "    .dataframe thead th {\n",
       "        text-align: right;\n",
       "    }\n",
       "</style>\n",
       "<table border=\"1\" class=\"dataframe\">\n",
       "  <thead>\n",
       "    <tr style=\"text-align: right;\">\n",
       "      <th></th>\n",
       "      <th>user_id</th>\n",
       "      <th>first_name</th>\n",
       "      <th>Surnam</th>\n",
       "      <th>gender</th>\n",
       "      <th>state</th>\n",
       "      <th>age</th>\n",
       "      <th>date_joined</th>\n",
       "      <th>num_dependents</th>\n",
       "      <th>marital_status</th>\n",
       "      <th>income</th>\n",
       "    </tr>\n",
       "  </thead>\n",
       "  <tbody>\n",
       "  </tbody>\n",
       "</table>\n",
       "</div>"
      ],
      "text/plain": [
       "Empty DataFrame\n",
       "Columns: [user_id, first_name, Surnam, gender, state, age, date_joined, num_dependents, marital_status, income]\n",
       "Index: []"
      ]
     },
     "execution_count": 19,
     "metadata": {},
     "output_type": "execute_result"
    }
   ],
   "source": [
    "# Check output\n",
    "df_dups.head()"
   ]
  },
  {
   "cell_type": "markdown",
   "id": "9c9bde5d-ec67-4ff2-8c1d-ee8c719ce72f",
   "metadata": {},
   "source": [
    "#### Observation: There are no duplicate values in this dataframe."
   ]
  },
  {
   "cell_type": "markdown",
   "id": "ede8d037-a0f3-4724-8495-160d0ca3c0d0",
   "metadata": {},
   "source": [
    "# Step 6 - Combine Customer Data with Existing Prepared Data"
   ]
  },
  {
   "cell_type": "code",
   "execution_count": 20,
   "id": "5ea94dc9-ca83-4a13-8ac1-19237ac448b0",
   "metadata": {},
   "outputs": [],
   "source": [
    "# Import the latest prepared dataframe\n",
    "df_prepared_dataframe = pd.read_pickle(os.path.join(path, '02 Data', 'Prepared Data', 'ords_prods_merge_4_8.pkl'))"
   ]
  },
  {
   "cell_type": "code",
   "execution_count": 21,
   "id": "4a576874-3aea-4a58-9b0b-9ee078e176a2",
   "metadata": {},
   "outputs": [
    {
     "data": {
      "text/plain": [
       "(32404859, 25)"
      ]
     },
     "execution_count": 21,
     "metadata": {},
     "output_type": "execute_result"
    }
   ],
   "source": [
    "# Check imported dataframe\n",
    "df_prepared_dataframe.shape"
   ]
  },
  {
   "cell_type": "code",
   "execution_count": 22,
   "id": "2c83d68b-df0d-47b7-9bcd-90883670d399",
   "metadata": {},
   "outputs": [],
   "source": [
    "# Create a subset of the prepared dataframe to manage memory\n",
    "subset_size = 10_000_000\n",
    "df_subset = df_prepared_dataframe.sample(n=subset_size, random_state=42)"
   ]
  },
  {
   "cell_type": "code",
   "execution_count": 23,
   "id": "ee0b033e-2a04-4a97-aeac-4ef5266c40f9",
   "metadata": {},
   "outputs": [
    {
     "data": {
      "text/plain": [
       "(10000000, 25)"
      ]
     },
     "execution_count": 23,
     "metadata": {},
     "output_type": "execute_result"
    }
   ],
   "source": [
    "# Check output\n",
    "df_subset.shape"
   ]
  },
  {
   "cell_type": "markdown",
   "id": "2913db81-7ac3-4fcd-96c3-129e696d5df4",
   "metadata": {},
   "source": [
    "#### Note: this subset was created with random sampling, at approximately 1/3 of the original data size."
   ]
  },
  {
   "cell_type": "code",
   "execution_count": 24,
   "id": "70ca9df8-cd2c-4461-a355-bb1dd60ef581",
   "metadata": {},
   "outputs": [
    {
     "data": {
      "text/plain": [
       "dtype('int64')"
      ]
     },
     "execution_count": 24,
     "metadata": {},
     "output_type": "execute_result"
    }
   ],
   "source": [
    "# Check 'user_id' data type in prepared dataframe\n",
    "df_subset['user_id'].dtype"
   ]
  },
  {
   "cell_type": "code",
   "execution_count": 25,
   "id": "b0ec8751-b2d6-452f-a681-901e075d974b",
   "metadata": {},
   "outputs": [],
   "source": [
    "# Convert it to string to match df_customers\n",
    "df_subset['user_id'] = df_subset['user_id'].astype('str')"
   ]
  },
  {
   "cell_type": "code",
   "execution_count": 26,
   "id": "86284c6f-2c01-46ad-abca-e9a293ab2afd",
   "metadata": {},
   "outputs": [
    {
     "data": {
      "text/plain": [
       "dtype('O')"
      ]
     },
     "execution_count": 26,
     "metadata": {},
     "output_type": "execute_result"
    }
   ],
   "source": [
    "# Check output\n",
    "df_subset['user_id'].dtype"
   ]
  },
  {
   "cell_type": "code",
   "execution_count": 27,
   "id": "74a4a985-a8ad-4f1c-96b0-91e7b4eddb4c",
   "metadata": {},
   "outputs": [
    {
     "data": {
      "text/plain": [
       "205562"
      ]
     },
     "execution_count": 27,
     "metadata": {},
     "output_type": "execute_result"
    }
   ],
   "source": [
    "# Check for unique values in prepared dataframe\n",
    "df_subset['user_id'].nunique()"
   ]
  },
  {
   "cell_type": "code",
   "execution_count": 28,
   "id": "296ef490-eeeb-4816-b527-a8a77137f59b",
   "metadata": {},
   "outputs": [
    {
     "data": {
      "text/plain": [
       "206209"
      ]
     },
     "execution_count": 28,
     "metadata": {},
     "output_type": "execute_result"
    }
   ],
   "source": [
    "# Do the same for df_customers\n",
    "df_customers['user_id'].nunique()"
   ]
  },
  {
   "cell_type": "markdown",
   "id": "2f879a9c-6e2e-4c94-bc03-d58dc2c0a8fc",
   "metadata": {},
   "source": [
    "#### Observation: Although the `user_id` count in `df_subset` (205,562) is slightly lower than in `df_customers` (206,209) due to subsetting, the overlap is strong enough to proceed with the merge without significantly impacting data completeness or analysis quality."
   ]
  },
  {
   "cell_type": "markdown",
   "id": "21e8b372-3bc3-4f19-a44c-2284c1401108",
   "metadata": {},
   "source": [
    "#### <b>Merge the two dataframes</b>"
   ]
  },
  {
   "cell_type": "code",
   "execution_count": 29,
   "id": "93c909c2-c2b6-4354-a91b-fa54d812452d",
   "metadata": {},
   "outputs": [],
   "source": [
    "#Perform a left merge to retain the full sample\n",
    "df_merging = df_subset.merge(df_customers, on='user_id', how='left', indicator='merging_status')"
   ]
  },
  {
   "cell_type": "code",
   "execution_count": 30,
   "id": "411bc509-30ef-4fb2-987b-2b8ef62ba249",
   "metadata": {},
   "outputs": [
    {
     "data": {
      "text/html": [
       "<div>\n",
       "<style scoped>\n",
       "    .dataframe tbody tr th:only-of-type {\n",
       "        vertical-align: middle;\n",
       "    }\n",
       "\n",
       "    .dataframe tbody tr th {\n",
       "        vertical-align: top;\n",
       "    }\n",
       "\n",
       "    .dataframe thead th {\n",
       "        text-align: right;\n",
       "    }\n",
       "</style>\n",
       "<table border=\"1\" class=\"dataframe\">\n",
       "  <thead>\n",
       "    <tr style=\"text-align: right;\">\n",
       "      <th></th>\n",
       "      <th>order_id</th>\n",
       "      <th>user_id</th>\n",
       "      <th>order_number</th>\n",
       "      <th>orders_day_of_week</th>\n",
       "      <th>order_hour_of_day</th>\n",
       "      <th>days_since_prior_order</th>\n",
       "      <th>product_id</th>\n",
       "      <th>add_to_cart_order</th>\n",
       "      <th>reordered</th>\n",
       "      <th>_merge</th>\n",
       "      <th>...</th>\n",
       "      <th>first_name</th>\n",
       "      <th>Surnam</th>\n",
       "      <th>gender</th>\n",
       "      <th>state</th>\n",
       "      <th>age</th>\n",
       "      <th>date_joined</th>\n",
       "      <th>num_dependents</th>\n",
       "      <th>marital_status</th>\n",
       "      <th>income</th>\n",
       "      <th>merging_status</th>\n",
       "    </tr>\n",
       "  </thead>\n",
       "  <tbody>\n",
       "    <tr>\n",
       "      <th>0</th>\n",
       "      <td>3411074</td>\n",
       "      <td>125899</td>\n",
       "      <td>1</td>\n",
       "      <td>2</td>\n",
       "      <td>20</td>\n",
       "      <td>NaN</td>\n",
       "      <td>27283</td>\n",
       "      <td>3</td>\n",
       "      <td>0</td>\n",
       "      <td>both</td>\n",
       "      <td>...</td>\n",
       "      <td>Brenda</td>\n",
       "      <td>Pennington</td>\n",
       "      <td>Female</td>\n",
       "      <td>Oklahoma</td>\n",
       "      <td>22</td>\n",
       "      <td>2019-03-22</td>\n",
       "      <td>3</td>\n",
       "      <td>married</td>\n",
       "      <td>32609</td>\n",
       "      <td>both</td>\n",
       "    </tr>\n",
       "    <tr>\n",
       "      <th>1</th>\n",
       "      <td>582767</td>\n",
       "      <td>131225</td>\n",
       "      <td>6</td>\n",
       "      <td>4</td>\n",
       "      <td>8</td>\n",
       "      <td>28.0</td>\n",
       "      <td>3896</td>\n",
       "      <td>3</td>\n",
       "      <td>1</td>\n",
       "      <td>both</td>\n",
       "      <td>...</td>\n",
       "      <td>Victor</td>\n",
       "      <td>Burke</td>\n",
       "      <td>Male</td>\n",
       "      <td>Alaska</td>\n",
       "      <td>19</td>\n",
       "      <td>2019-05-05</td>\n",
       "      <td>3</td>\n",
       "      <td>living with parents and siblings</td>\n",
       "      <td>50072</td>\n",
       "      <td>both</td>\n",
       "    </tr>\n",
       "    <tr>\n",
       "      <th>2</th>\n",
       "      <td>1648217</td>\n",
       "      <td>129928</td>\n",
       "      <td>31</td>\n",
       "      <td>1</td>\n",
       "      <td>20</td>\n",
       "      <td>10.0</td>\n",
       "      <td>37029</td>\n",
       "      <td>47</td>\n",
       "      <td>1</td>\n",
       "      <td>both</td>\n",
       "      <td>...</td>\n",
       "      <td>Adam</td>\n",
       "      <td>Fernandez</td>\n",
       "      <td>Male</td>\n",
       "      <td>Oklahoma</td>\n",
       "      <td>61</td>\n",
       "      <td>2018-03-30</td>\n",
       "      <td>0</td>\n",
       "      <td>divorced/widowed</td>\n",
       "      <td>36163</td>\n",
       "      <td>both</td>\n",
       "    </tr>\n",
       "    <tr>\n",
       "      <th>3</th>\n",
       "      <td>492489</td>\n",
       "      <td>93812</td>\n",
       "      <td>17</td>\n",
       "      <td>0</td>\n",
       "      <td>12</td>\n",
       "      <td>8.0</td>\n",
       "      <td>18234</td>\n",
       "      <td>22</td>\n",
       "      <td>1</td>\n",
       "      <td>both</td>\n",
       "      <td>...</td>\n",
       "      <td>Nancy</td>\n",
       "      <td>Gomez</td>\n",
       "      <td>Female</td>\n",
       "      <td>Nevada</td>\n",
       "      <td>50</td>\n",
       "      <td>2017-08-08</td>\n",
       "      <td>0</td>\n",
       "      <td>single</td>\n",
       "      <td>163081</td>\n",
       "      <td>both</td>\n",
       "    </tr>\n",
       "    <tr>\n",
       "      <th>4</th>\n",
       "      <td>277503</td>\n",
       "      <td>67925</td>\n",
       "      <td>2</td>\n",
       "      <td>0</td>\n",
       "      <td>13</td>\n",
       "      <td>2.0</td>\n",
       "      <td>41950</td>\n",
       "      <td>3</td>\n",
       "      <td>0</td>\n",
       "      <td>both</td>\n",
       "      <td>...</td>\n",
       "      <td>Rachel</td>\n",
       "      <td>Torres</td>\n",
       "      <td>Female</td>\n",
       "      <td>Texas</td>\n",
       "      <td>25</td>\n",
       "      <td>2019-02-19</td>\n",
       "      <td>2</td>\n",
       "      <td>married</td>\n",
       "      <td>41667</td>\n",
       "      <td>both</td>\n",
       "    </tr>\n",
       "  </tbody>\n",
       "</table>\n",
       "<p>5 rows × 35 columns</p>\n",
       "</div>"
      ],
      "text/plain": [
       "   order_id user_id  order_number  orders_day_of_week  order_hour_of_day  \\\n",
       "0   3411074  125899             1                   2                 20   \n",
       "1    582767  131225             6                   4                  8   \n",
       "2   1648217  129928            31                   1                 20   \n",
       "3    492489   93812            17                   0                 12   \n",
       "4    277503   67925             2                   0                 13   \n",
       "\n",
       "   days_since_prior_order  product_id  add_to_cart_order  reordered _merge  \\\n",
       "0                     NaN       27283                  3          0   both   \n",
       "1                    28.0        3896                  3          1   both   \n",
       "2                    10.0       37029                 47          1   both   \n",
       "3                     8.0       18234                 22          1   both   \n",
       "4                     2.0       41950                  3          0   both   \n",
       "\n",
       "   ... first_name      Surnam  gender     state age date_joined  \\\n",
       "0  ...     Brenda  Pennington  Female  Oklahoma  22  2019-03-22   \n",
       "1  ...     Victor       Burke    Male    Alaska  19  2019-05-05   \n",
       "2  ...       Adam   Fernandez    Male  Oklahoma  61  2018-03-30   \n",
       "3  ...      Nancy       Gomez  Female    Nevada  50  2017-08-08   \n",
       "4  ...     Rachel      Torres  Female     Texas  25  2019-02-19   \n",
       "\n",
       "  num_dependents                    marital_status  income  merging_status  \n",
       "0              3                           married   32609            both  \n",
       "1              3  living with parents and siblings   50072            both  \n",
       "2              0                  divorced/widowed   36163            both  \n",
       "3              0                            single  163081            both  \n",
       "4              2                           married   41667            both  \n",
       "\n",
       "[5 rows x 35 columns]"
      ]
     },
     "execution_count": 30,
     "metadata": {},
     "output_type": "execute_result"
    }
   ],
   "source": [
    "# Check output\n",
    "df_merging.head()"
   ]
  },
  {
   "cell_type": "code",
   "execution_count": 31,
   "id": "9b163776-5671-44e1-937d-74cd53b7c51c",
   "metadata": {},
   "outputs": [
    {
     "data": {
      "text/plain": [
       "(10000000, 35)"
      ]
     },
     "execution_count": 31,
     "metadata": {},
     "output_type": "execute_result"
    }
   ],
   "source": [
    "df_merging.shape"
   ]
  },
  {
   "cell_type": "code",
   "execution_count": 32,
   "id": "71658de5-f3dd-4aef-b1e8-041a8a087223",
   "metadata": {},
   "outputs": [
    {
     "data": {
      "text/plain": [
       "merging_status\n",
       "both          10000000\n",
       "left_only            0\n",
       "right_only           0\n",
       "Name: count, dtype: int64"
      ]
     },
     "execution_count": 32,
     "metadata": {},
     "output_type": "execute_result"
    }
   ],
   "source": [
    "df_merging['merging_status'].value_counts()"
   ]
  },
  {
   "cell_type": "markdown",
   "id": "36faa12e-1c98-4370-87d5-661e05b5dba2",
   "metadata": {},
   "source": [
    "#### Observation: the value.count indicates that the full merge was successful."
   ]
  },
  {
   "cell_type": "markdown",
   "id": "1573343e-ab7f-43d4-bbb1-3474e759453f",
   "metadata": {},
   "source": [
    "# Step 8 - Export Final Pickle"
   ]
  },
  {
   "cell_type": "code",
   "execution_count": 33,
   "id": "e3adfc89-7e9d-4df5-a019-edb90f245289",
   "metadata": {},
   "outputs": [],
   "source": [
    "df_merging.to_pickle(os.path.join(path, '02 Data','Prepared Data', 'combined_customers_4_9_Final.pkl'))"
   ]
  },
  {
   "cell_type": "code",
   "execution_count": null,
   "id": "40e6bd75-fd85-4176-9d8f-a9927f38f22e",
   "metadata": {},
   "outputs": [],
   "source": []
  }
 ],
 "metadata": {
  "kernelspec": {
   "display_name": "Python [conda env:base] *",
   "language": "python",
   "name": "conda-base-py"
  },
  "language_info": {
   "codemirror_mode": {
    "name": "ipython",
    "version": 3
   },
   "file_extension": ".py",
   "mimetype": "text/x-python",
   "name": "python",
   "nbconvert_exporter": "python",
   "pygments_lexer": "ipython3",
   "version": "3.12.7"
  }
 },
 "nbformat": 4,
 "nbformat_minor": 5
}
