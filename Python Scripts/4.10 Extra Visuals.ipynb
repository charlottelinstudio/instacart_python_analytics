{
 "cells": [
  {
   "cell_type": "markdown",
   "id": "1b42fae7-a0a3-41f2-aa52-684ec9539ff5",
   "metadata": {},
   "source": [
    "# Import Libraries and Dataframe"
   ]
  },
  {
   "cell_type": "code",
   "execution_count": 1,
   "id": "e13ff23a-15b5-4668-a358-b3ddffe1d0a8",
   "metadata": {},
   "outputs": [],
   "source": [
    "import pandas as pd\n",
    "import numpy as np\n",
    "import os\n",
    "import matplotlib.pyplot as plt\n",
    "import seaborn as sns\n",
    "import scipy"
   ]
  },
  {
   "cell_type": "code",
   "execution_count": 2,
   "id": "b4b50143-6a5b-418c-9713-d3946adffbca",
   "metadata": {},
   "outputs": [],
   "source": [
    "# Create path\n",
    "path = \"/Users/charlottelin/Documents/06-2025 Instacart Basket Analysis\""
   ]
  },
  {
   "cell_type": "code",
   "execution_count": 4,
   "id": "19a12be2-9f04-4fcd-a4c1-db4d09c4bf1e",
   "metadata": {},
   "outputs": [],
   "source": [
    "# Importing latest combined customers dataframe\n",
    "df_ords = pd.read_pickle(os.path.join(path, '02 Data', 'Prepared Data', 'df_ords_2.pkl'))"
   ]
  },
  {
   "cell_type": "code",
   "execution_count": 6,
   "id": "6ea6ad9a-b6a0-48b2-8acb-a5c247fec39d",
   "metadata": {},
   "outputs": [
    {
     "data": {
      "text/html": [
       "<div>\n",
       "<style scoped>\n",
       "    .dataframe tbody tr th:only-of-type {\n",
       "        vertical-align: middle;\n",
       "    }\n",
       "\n",
       "    .dataframe tbody tr th {\n",
       "        vertical-align: top;\n",
       "    }\n",
       "\n",
       "    .dataframe thead th {\n",
       "        text-align: right;\n",
       "    }\n",
       "</style>\n",
       "<table border=\"1\" class=\"dataframe\">\n",
       "  <thead>\n",
       "    <tr style=\"text-align: right;\">\n",
       "      <th></th>\n",
       "      <th>order_id</th>\n",
       "      <th>user_id</th>\n",
       "      <th>order_number</th>\n",
       "      <th>orders_day_of_week</th>\n",
       "      <th>order_hour_of_day</th>\n",
       "      <th>days_since_prior_order</th>\n",
       "      <th>product_id</th>\n",
       "      <th>add_to_cart_order</th>\n",
       "      <th>reordered</th>\n",
       "      <th>_merge</th>\n",
       "      <th>...</th>\n",
       "      <th>num_dependents</th>\n",
       "      <th>marital_status</th>\n",
       "      <th>income</th>\n",
       "      <th>merging_status</th>\n",
       "      <th>region</th>\n",
       "      <th>activity_customer_level</th>\n",
       "      <th>age_group</th>\n",
       "      <th>Income_bracket</th>\n",
       "      <th>parent_status</th>\n",
       "      <th>department_name</th>\n",
       "    </tr>\n",
       "  </thead>\n",
       "  <tbody>\n",
       "    <tr>\n",
       "      <th>0</th>\n",
       "      <td>3411074</td>\n",
       "      <td>125899</td>\n",
       "      <td>1</td>\n",
       "      <td>2</td>\n",
       "      <td>20</td>\n",
       "      <td>NaN</td>\n",
       "      <td>27283</td>\n",
       "      <td>3</td>\n",
       "      <td>0</td>\n",
       "      <td>both</td>\n",
       "      <td>...</td>\n",
       "      <td>3</td>\n",
       "      <td>married</td>\n",
       "      <td>32609</td>\n",
       "      <td>both</td>\n",
       "      <td>South</td>\n",
       "      <td>High-activity Customer</td>\n",
       "      <td>Young adult</td>\n",
       "      <td>Low Income Customer</td>\n",
       "      <td>Parent</td>\n",
       "      <td>beverages</td>\n",
       "    </tr>\n",
       "    <tr>\n",
       "      <th>1</th>\n",
       "      <td>582767</td>\n",
       "      <td>131225</td>\n",
       "      <td>6</td>\n",
       "      <td>4</td>\n",
       "      <td>8</td>\n",
       "      <td>28.0</td>\n",
       "      <td>3896</td>\n",
       "      <td>3</td>\n",
       "      <td>1</td>\n",
       "      <td>both</td>\n",
       "      <td>...</td>\n",
       "      <td>3</td>\n",
       "      <td>living with parents and siblings</td>\n",
       "      <td>50072</td>\n",
       "      <td>both</td>\n",
       "      <td>West</td>\n",
       "      <td>High-activity Customer</td>\n",
       "      <td>Young adult</td>\n",
       "      <td>Low Income Customer</td>\n",
       "      <td>Parent</td>\n",
       "      <td>bakery</td>\n",
       "    </tr>\n",
       "    <tr>\n",
       "      <th>2</th>\n",
       "      <td>1648217</td>\n",
       "      <td>129928</td>\n",
       "      <td>31</td>\n",
       "      <td>1</td>\n",
       "      <td>20</td>\n",
       "      <td>10.0</td>\n",
       "      <td>37029</td>\n",
       "      <td>47</td>\n",
       "      <td>1</td>\n",
       "      <td>both</td>\n",
       "      <td>...</td>\n",
       "      <td>0</td>\n",
       "      <td>divorced/widowed</td>\n",
       "      <td>36163</td>\n",
       "      <td>both</td>\n",
       "      <td>South</td>\n",
       "      <td>High-activity Customer</td>\n",
       "      <td>Older adult</td>\n",
       "      <td>Low Income Customer</td>\n",
       "      <td>Single</td>\n",
       "      <td>dairy eggs</td>\n",
       "    </tr>\n",
       "    <tr>\n",
       "      <th>3</th>\n",
       "      <td>492489</td>\n",
       "      <td>93812</td>\n",
       "      <td>17</td>\n",
       "      <td>0</td>\n",
       "      <td>12</td>\n",
       "      <td>8.0</td>\n",
       "      <td>18234</td>\n",
       "      <td>22</td>\n",
       "      <td>1</td>\n",
       "      <td>both</td>\n",
       "      <td>...</td>\n",
       "      <td>0</td>\n",
       "      <td>single</td>\n",
       "      <td>163081</td>\n",
       "      <td>both</td>\n",
       "      <td>West</td>\n",
       "      <td>High-activity Customer</td>\n",
       "      <td>Older adult</td>\n",
       "      <td>High Income Customer</td>\n",
       "      <td>Single</td>\n",
       "      <td>produce</td>\n",
       "    </tr>\n",
       "    <tr>\n",
       "      <th>4</th>\n",
       "      <td>277503</td>\n",
       "      <td>67925</td>\n",
       "      <td>2</td>\n",
       "      <td>0</td>\n",
       "      <td>13</td>\n",
       "      <td>2.0</td>\n",
       "      <td>41950</td>\n",
       "      <td>3</td>\n",
       "      <td>0</td>\n",
       "      <td>both</td>\n",
       "      <td>...</td>\n",
       "      <td>2</td>\n",
       "      <td>married</td>\n",
       "      <td>41667</td>\n",
       "      <td>both</td>\n",
       "      <td>South</td>\n",
       "      <td>High-activity Customer</td>\n",
       "      <td>Young adult</td>\n",
       "      <td>Low Income Customer</td>\n",
       "      <td>Parent</td>\n",
       "      <td>produce</td>\n",
       "    </tr>\n",
       "  </tbody>\n",
       "</table>\n",
       "<p>5 rows × 39 columns</p>\n",
       "</div>"
      ],
      "text/plain": [
       "   order_id user_id  order_number  orders_day_of_week  order_hour_of_day  \\\n",
       "0   3411074  125899             1                   2                 20   \n",
       "1    582767  131225             6                   4                  8   \n",
       "2   1648217  129928            31                   1                 20   \n",
       "3    492489   93812            17                   0                 12   \n",
       "4    277503   67925             2                   0                 13   \n",
       "\n",
       "   days_since_prior_order  product_id  add_to_cart_order  reordered _merge  \\\n",
       "0                     NaN       27283                  3          0   both   \n",
       "1                    28.0        3896                  3          1   both   \n",
       "2                    10.0       37029                 47          1   both   \n",
       "3                     8.0       18234                 22          1   both   \n",
       "4                     2.0       41950                  3          0   both   \n",
       "\n",
       "   ... num_dependents                    marital_status  income  \\\n",
       "0  ...              3                           married   32609   \n",
       "1  ...              3  living with parents and siblings   50072   \n",
       "2  ...              0                  divorced/widowed   36163   \n",
       "3  ...              0                            single  163081   \n",
       "4  ...              2                           married   41667   \n",
       "\n",
       "   merging_status region activity_customer_level    age_group  \\\n",
       "0            both  South  High-activity Customer  Young adult   \n",
       "1            both   West  High-activity Customer  Young adult   \n",
       "2            both  South  High-activity Customer  Older adult   \n",
       "3            both   West  High-activity Customer  Older adult   \n",
       "4            both  South  High-activity Customer  Young adult   \n",
       "\n",
       "         Income_bracket parent_status  department_name  \n",
       "0   Low Income Customer        Parent        beverages  \n",
       "1   Low Income Customer        Parent           bakery  \n",
       "2   Low Income Customer        Single       dairy eggs  \n",
       "3  High Income Customer        Single          produce  \n",
       "4   Low Income Customer        Parent          produce  \n",
       "\n",
       "[5 rows x 39 columns]"
      ]
     },
     "execution_count": 6,
     "metadata": {},
     "output_type": "execute_result"
    }
   ],
   "source": [
    "# Check output\n",
    "df_ords.head()"
   ]
  },
  {
   "cell_type": "markdown",
   "id": "924b95a9-9c90-42ce-b2af-e071e26861db",
   "metadata": {},
   "source": [
    "# Busiest Days and Hours"
   ]
  },
  {
   "cell_type": "code",
   "execution_count": 7,
   "id": "ff5ea597-57b0-47b5-8f9a-dcb237e63f9e",
   "metadata": {},
   "outputs": [],
   "source": [
    "# Define function\n",
    "day_of_week = []\n",
    "for value in df_ords['orders_day_of_week']:\n",
    "    if value == 0:\n",
    "        day_of_week.append('Saturday')\n",
    "    elif value == 1:\n",
    "        day_of_week.append('Sunday')\n",
    "    elif value == 2:\n",
    "        day_of_week.append('Monday')\n",
    "    elif value == 3:\n",
    "        day_of_week.append('Tuesday')\n",
    "    elif value == 4:\n",
    "        day_of_week.append('Wednesday')\n",
    "    elif value == 5:\n",
    "        day_of_week.append('Thursday')\n",
    "    elif value == 6:\n",
    "        day_of_week.append('Friday')\n",
    "\n",
    "df_ords['day_of_week'] = day_of_week"
   ]
  },
  {
   "cell_type": "code",
   "execution_count": 8,
   "id": "742c7608-bac1-4f9a-865b-7e5b80fedc43",
   "metadata": {},
   "outputs": [
    {
     "data": {
      "text/plain": [
       "day_of_week\n",
       "Saturday     1912579\n",
       "Sunday       1745766\n",
       "Friday       1389072\n",
       "Monday       1300765\n",
       "Thursday     1297877\n",
       "Tuesday      1185927\n",
       "Wednesday    1168014\n",
       "Name: count, dtype: int64"
      ]
     },
     "execution_count": 8,
     "metadata": {},
     "output_type": "execute_result"
    }
   ],
   "source": [
    "df_ords['day_of_week'].value_counts(dropna= False)"
   ]
  },
  {
   "cell_type": "code",
   "execution_count": 9,
   "id": "4b4b76bd-5d09-4012-8310-7b6404f49f17",
   "metadata": {},
   "outputs": [
    {
     "data": {
      "text/plain": [
       "Text(0, 0.5, 'Order Counts')"
      ]
     },
     "execution_count": 9,
     "metadata": {},
     "output_type": "execute_result"
    },
    {
     "data": {
      "image/png": "[encoded data removed]",
      "text/plain": [
       "<Figure size 640x480 with 1 Axes>"
      ]
     },
     "metadata": {},
     "output_type": "display_data"
    }
   ],
   "source": [
    "# Plot busiest days of the week bar graph\n",
    "bar = df_ords['day_of_week'].value_counts().plot.bar(color = ['red', 'gold', 'green', 'blue', 'purple', 'orange', 'brown'])\n",
    "\n",
    "# Add title and labels\n",
    "plt.title('busiest days of the week')\n",
    "plt.xlabel('Day of Week')\n",
    "plt.ylabel('Order Counts')"
   ]
  },
  {
   "cell_type": "code",
   "execution_count": 10,
   "id": "1529162b-8664-454a-afd2-d36ba551b98c",
   "metadata": {},
   "outputs": [],
   "source": [
    "# Export\n",
    "bar.figure.savefig(os.path.join(path, '04 Analysis','Visualizations', 'Busiest Day of Week.png'), bbox_inches='tight')"
   ]
  },
  {
   "cell_type": "markdown",
   "id": "a98aec45-e22d-4ca5-af14-58a4af2a6fb9",
   "metadata": {},
   "source": [
    "### Observations\n",
    "The busiest days are Saturday and Sunday."
   ]
  },
  {
   "cell_type": "code",
   "execution_count": 11,
   "id": "d1f00cca-e811-4285-be3b-ebb5921a1ffc",
   "metadata": {},
   "outputs": [],
   "source": [
    "# Define function for busiest hours\n",
    "def get_busiest_hours(order_counts_dict, top_n=5):\n",
    "    sorted_hours = sorted(order_counts_dict.items(), key=lambda x: x[1], reverse=True)\n",
    "    return sorted_hours[:top_n]"
   ]
  },
  {
   "cell_type": "code",
   "execution_count": 12,
   "id": "c2f3cc99-d5d1-4036-88d3-d8b6abd4bd6d",
   "metadata": {},
   "outputs": [],
   "source": [
    "order_counts = {\n",
    "    10: 2764390, 11: 2738585, 14: 2691563, 15: 2664522, 13: 2663272,\n",
    "    12: 2620800, 16: 2537469, 9: 2456661, 17: 2089452, 8: 1719952,\n",
    "    18: 1637922, 19: 1259382, 20: 977017, 7: 891928, 21: 796362,\n",
    "    22: 634737, 23: 402612, 6: 290770, 0: 218942, 1: 115786,\n",
    "    5: 88057, 2: 69431, 4: 53283, 3: 51317\n",
    "}"
   ]
  },
  {
   "cell_type": "code",
   "execution_count": 13,
   "id": "4a4e512b-7a61-46ef-8dab-b73e7327f0ba",
   "metadata": {},
   "outputs": [],
   "source": [
    "top_hours = get_busiest_hours(order_counts, top_n=5)"
   ]
  },
  {
   "cell_type": "code",
   "execution_count": 14,
   "id": "22cee22b-3a76-444d-b71d-c54d6b783b11",
   "metadata": {},
   "outputs": [
    {
     "name": "stdout",
     "output_type": "stream",
     "text": [
      "Top 5 busiest order hours:\n",
      "10:00 - 2764390 orders\n",
      "11:00 - 2738585 orders\n",
      "14:00 - 2691563 orders\n",
      "15:00 - 2664522 orders\n",
      "13:00 - 2663272 orders\n"
     ]
    }
   ],
   "source": [
    "print(\"Top 5 busiest order hours:\")\n",
    "for hour, count in top_hours:\n",
    "    print(f\"{hour}:00 - {count} orders\")"
   ]
  },
  {
   "cell_type": "code",
   "execution_count": 15,
   "id": "d5a6672f-9771-4cce-8c30-6d6a747d8e39",
   "metadata": {},
   "outputs": [
    {
     "data": {
      "text/plain": [
       "Text(0, 0.5, 'Order Counts')"
      ]
     },
     "execution_count": 15,
     "metadata": {},
     "output_type": "execute_result"
    },
    {
     "data": {
      "image/png": "[encoded data removed]",
      "text/plain": [
       "<Figure size 640x480 with 1 Axes>"
      ]
     },
     "metadata": {},
     "output_type": "display_data"
    }
   ],
   "source": [
    "# Plot bar graph\n",
    "top_hours_series = pd.Series(\n",
    "    data=[count for hour, count in top_hours],\n",
    "    index=[f\"{hour}:00\" for hour, count in top_hours]\n",
    ")\n",
    "\n",
    "# Plot\n",
    "colors = ['green', 'blue', 'purple', 'orange', 'brown']\n",
    "bar2 = top_hours_series.plot.bar(color=colors)\n",
    "\n",
    "# Add title and labels\n",
    "plt.title('Top 5 busiest order hours')\n",
    "plt.xlabel('Day of Week')\n",
    "plt.ylabel('Order Counts')"
   ]
  },
  {
   "cell_type": "code",
   "execution_count": 16,
   "id": "a73fa341-5be7-46de-912e-bc4b4af5c152",
   "metadata": {},
   "outputs": [],
   "source": [
    "# Export\n",
    "bar2.figure.savefig(os.path.join(path, '04 Analysis','Visualizations', 'Busiest Hours of Day.png'), bbox_inches='tight')"
   ]
  },
  {
   "cell_type": "markdown",
   "id": "806bc9e4-a197-4797-a129-55319a5708b3",
   "metadata": {},
   "source": [
    "### Observations:\n",
    "The busiest hours are 10 am, 11 am, 2 pm, 3 pm, and 1 pm."
   ]
  },
  {
   "cell_type": "markdown",
   "id": "9ded3a64-94d0-45c9-9f72-223a01e11500",
   "metadata": {},
   "source": [
    "# Price Range and Popularity"
   ]
  },
  {
   "cell_type": "code",
   "execution_count": 18,
   "id": "bb9b4492-12c1-4967-bc94-c9c6f08ab99f",
   "metadata": {},
   "outputs": [],
   "source": [
    "# Define price range\n",
    "def price_label(row):\n",
    "\n",
    "  if row['prices'] <= 5:\n",
    "    return 'Low-range product'\n",
    "  elif (row['prices'] > 5) and (row['prices'] <= 15):\n",
    "    return 'Mid-range product'\n",
    "  elif row['prices'] > 15:\n",
    "    return 'High range'\n",
    "  else: return 'Not enough data'"
   ]
  },
  {
   "cell_type": "code",
   "execution_count": 19,
   "id": "11547c30-6f2a-43ad-a893-ca052441c3b1",
   "metadata": {},
   "outputs": [],
   "source": [
    "# Define function\n",
    "df_ords_2 = df_ords[df_ords['department_id'] == 4].copy() "
   ]
  },
  {
   "cell_type": "code",
   "execution_count": 20,
   "id": "65a6261b-6918-46eb-9d88-f978af9ce17b",
   "metadata": {},
   "outputs": [],
   "source": [
    "# Apply price_label function to rows\n",
    "df_ords_2['price_range'] = df_ords_2.apply(price_label, axis=1)"
   ]
  },
  {
   "cell_type": "code",
   "execution_count": 21,
   "id": "4b6caf59-ee86-469b-95a7-3349a061c8c9",
   "metadata": {},
   "outputs": [
    {
     "data": {
      "text/plain": [
       "price_range\n",
       "Mid-range product    2092797\n",
       "Low-range product     833329\n",
       "Name: count, dtype: int64"
      ]
     },
     "execution_count": 21,
     "metadata": {},
     "output_type": "execute_result"
    }
   ],
   "source": [
    "# Check results\n",
    "df_ords_2['price_range'].value_counts(dropna = False)"
   ]
  },
  {
   "cell_type": "code",
   "execution_count": 22,
   "id": "5cf4a02d-34ad-4f67-a2d2-960b461e2f51",
   "metadata": {},
   "outputs": [
    {
     "data": {
      "text/plain": [
       "Text(0.5, 1.0, 'price_range')"
      ]
     },
     "execution_count": 22,
     "metadata": {},
     "output_type": "execute_result"
    },
    {
     "data": {
      "image/png": "[encoded data removed]",
      "text/plain": [
       "<Figure size 640x480 with 1 Axes>"
      ]
     },
     "metadata": {},
     "output_type": "display_data"
    }
   ],
   "source": [
    "# Plot price range bar graph\n",
    "bar3 = df_ords_2['price_range'].value_counts().plot.bar(color = (['crimson', 'skyblue', 'chocolate']))\n",
    "\n",
    "# Add title and labels\n",
    "plt.title('price_range')"
   ]
  },
  {
   "cell_type": "markdown",
   "id": "f0eaf802-9812-498d-92b1-2adb1a49241f",
   "metadata": {},
   "source": [
    "### Observations:\n",
    "Mid-range products are significantly more popular than low-range products. This shows that customers prefer mid-priced items or that Instacart's pricing strategy favors mid-range offers."
   ]
  },
  {
   "cell_type": "code",
   "execution_count": 23,
   "id": "ef8029e1-f237-4b70-be87-2815daaaacf9",
   "metadata": {},
   "outputs": [],
   "source": [
    "# Export\n",
    "bar3.figure.savefig(os.path.join(path, '04 Analysis','Visualizations', 'Price Range Popularity.png'), bbox_inches='tight')"
   ]
  },
  {
   "cell_type": "markdown",
   "id": "2f37c20e-5d92-43f8-9669-8baf24695e33",
   "metadata": {},
   "source": [
    "# Export Final Pickle"
   ]
  },
  {
   "cell_type": "code",
   "execution_count": 24,
   "id": "3872a842-2ada-44c2-bc0e-34e017293d4f",
   "metadata": {},
   "outputs": [],
   "source": [
    "df_ords_2.to_pickle(os.path.join(path, '02 Data','Prepared Data', 'df_ords_2.pkl'))"
   ]
  },
  {
   "cell_type": "code",
   "execution_count": null,
   "id": "e51c823f-1eee-4642-8b79-62e057fa7980",
   "metadata": {},
   "outputs": [],
   "source": []
  }
 ],
 "metadata": {
  "kernelspec": {
   "display_name": "Python [conda env:base] *",
   "language": "python",
   "name": "conda-base-py"
  },
  "language_info": {
   "codemirror_mode": {
    "name": "ipython",
    "version": 3
   },
   "file_extension": ".py",
   "mimetype": "text/x-python",
   "name": "python",
   "nbconvert_exporter": "python",
   "pygments_lexer": "ipython3",
   "version": "3.12.7"
  }
 },
 "nbformat": 4,
 "nbformat_minor": 5
}
