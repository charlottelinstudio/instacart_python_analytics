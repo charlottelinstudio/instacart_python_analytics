{
 "cells": [
  {
   "cell_type": "markdown",
   "id": "2fb41da9-c93b-41de-8699-37db3b561f63",
   "metadata": {},
   "source": [
    "# 0.1 Importing Libraries"
   ]
  },
  {
   "cell_type": "code",
   "execution_count": 1,
   "id": "6dcba1bd-9eb6-4c37-81ef-0ac8c556e996",
   "metadata": {},
   "outputs": [],
   "source": [
    "# Importing Libraries\n",
    "import pandas as pd\n",
    "import numpy as np\n",
    "import os"
   ]
  },
  {
   "cell_type": "markdown",
   "id": "82715aa2-b00a-4a77-a1c7-c723297bf4c7",
   "metadata": {},
   "source": [
    "# 0.2 Python Data Types"
   ]
  },
  {
   "cell_type": "code",
   "execution_count": null,
   "id": "ec818305-0529-47fd-b3c5-bbdf94285f43",
   "metadata": {},
   "outputs": [],
   "source": [
    "# Method 1: Addition"
   ]
  },
  {
   "cell_type": "code",
   "execution_count": 25,
   "id": "4e94e7f4-6e8c-4c9c-9e97-81d2c5e2c4b0",
   "metadata": {},
   "outputs": [],
   "source": [
    "a = 70\n",
    "b = 30"
   ]
  },
  {
   "cell_type": "code",
   "execution_count": 26,
   "id": "74718a7e-b903-4762-8d9c-3771c281d198",
   "metadata": {},
   "outputs": [
    {
     "name": "stdout",
     "output_type": "stream",
     "text": [
      "100\n"
     ]
    }
   ],
   "source": [
    "print (a + b)"
   ]
  },
  {
   "cell_type": "code",
   "execution_count": null,
   "id": "edc81c5a-92ce-4a10-9712-0ffee52f11e8",
   "metadata": {},
   "outputs": [],
   "source": [
    "# Method 2: Subtraction"
   ]
  },
  {
   "cell_type": "code",
   "execution_count": 27,
   "id": "fd5f5101-4b86-4061-b015-f5679ceb705f",
   "metadata": {},
   "outputs": [],
   "source": [
    "c = 120\n",
    "d = 20"
   ]
  },
  {
   "cell_type": "code",
   "execution_count": 28,
   "id": "ab6aab03-4f27-4c5b-970e-7a9a92199908",
   "metadata": {},
   "outputs": [
    {
     "name": "stdout",
     "output_type": "stream",
     "text": [
      "100\n"
     ]
    }
   ],
   "source": [
    "print (c - d)"
   ]
  },
  {
   "cell_type": "code",
   "execution_count": null,
   "id": "b6a9227a-1c3f-46ed-bf1f-51991ed22d5f",
   "metadata": {},
   "outputs": [],
   "source": [
    "# Method 3: Multiplication"
   ]
  },
  {
   "cell_type": "code",
   "execution_count": 30,
   "id": "332dc29a-d6b9-4736-a999-79a933f8f631",
   "metadata": {},
   "outputs": [],
   "source": [
    "e = 40\n",
    "f = 2.5"
   ]
  },
  {
   "cell_type": "code",
   "execution_count": 31,
   "id": "737dc423-a6e9-4f1d-b26a-ecb246aad6e3",
   "metadata": {},
   "outputs": [
    {
     "name": "stdout",
     "output_type": "stream",
     "text": [
      "100.0\n"
     ]
    }
   ],
   "source": [
    "print (e*f)"
   ]
  },
  {
   "cell_type": "code",
   "execution_count": null,
   "id": "d79a4ddb-33fb-47a8-8bd8-1ca2c9e80db5",
   "metadata": {},
   "outputs": [],
   "source": [
    "# Divison of Floating-Point Variables"
   ]
  },
  {
   "cell_type": "code",
   "execution_count": 32,
   "id": "9adeab18-b9dc-407e-9175-9b80f694f347",
   "metadata": {},
   "outputs": [],
   "source": [
    "x = 22.5\n",
    "y = 4.5"
   ]
  },
  {
   "cell_type": "code",
   "execution_count": 33,
   "id": "5e4f45a9-ec81-41db-b5ea-91342285cb62",
   "metadata": {},
   "outputs": [
    {
     "name": "stdout",
     "output_type": "stream",
     "text": [
      "5.0\n"
     ]
    }
   ],
   "source": [
    "print (x/y)"
   ]
  },
  {
   "cell_type": "code",
   "execution_count": null,
   "id": "c96cf251-f102-487a-9b9f-dbac65a370bb",
   "metadata": {},
   "outputs": [],
   "source": [
    "# Short word string"
   ]
  },
  {
   "cell_type": "code",
   "execution_count": 34,
   "id": "4c9e576b-6b6a-4f61-96a0-08a6800d1c58",
   "metadata": {},
   "outputs": [],
   "source": [
    "Letter1 = 'D'"
   ]
  },
  {
   "cell_type": "code",
   "execution_count": 35,
   "id": "6561c042-0eb2-40a1-8243-4c92b1c0e6f6",
   "metadata": {},
   "outputs": [],
   "source": [
    "Letter2 = 'A'"
   ]
  },
  {
   "cell_type": "code",
   "execution_count": 36,
   "id": "b03dc0e1-644c-4316-baf3-b3e228307c19",
   "metadata": {},
   "outputs": [],
   "source": [
    "Letter3 = 'T'"
   ]
  },
  {
   "cell_type": "code",
   "execution_count": 37,
   "id": "3f4faa0c-b602-4b96-ba07-19bf64604670",
   "metadata": {},
   "outputs": [],
   "source": [
    "Letter4 = 'A'"
   ]
  },
  {
   "cell_type": "code",
   "execution_count": 39,
   "id": "fb91a88d-1928-4761-9ab5-052a7ce9fcf6",
   "metadata": {},
   "outputs": [
    {
     "name": "stdout",
     "output_type": "stream",
     "text": [
      "DATA\n"
     ]
    }
   ],
   "source": [
    "print (Letter1 + Letter2 + Letter3 + Letter4)"
   ]
  },
  {
   "cell_type": "code",
   "execution_count": null,
   "id": "723eb7d8-51ba-448a-a28d-d6007408a284",
   "metadata": {},
   "outputs": [],
   "source": [
    "# Short sentence 1"
   ]
  },
  {
   "cell_type": "code",
   "execution_count": 42,
   "id": "319b411c-e690-4504-b63f-04187c06da31",
   "metadata": {},
   "outputs": [],
   "source": [
    "Part1 = 'Python '"
   ]
  },
  {
   "cell_type": "code",
   "execution_count": 43,
   "id": "8b6dd878-807a-4937-a74c-b7fddc27fff3",
   "metadata": {},
   "outputs": [],
   "source": [
    "Part2 = 'is '"
   ]
  },
  {
   "cell_type": "code",
   "execution_count": 44,
   "id": "1a041585-f24f-4987-b29c-d7033fe62acb",
   "metadata": {},
   "outputs": [],
   "source": [
    "Part3 = 'awesome!'"
   ]
  },
  {
   "cell_type": "code",
   "execution_count": 45,
   "id": "9cfb1b2c-7018-4525-9a0e-768e03279962",
   "metadata": {},
   "outputs": [
    {
     "name": "stdout",
     "output_type": "stream",
     "text": [
      "Python is awesome!\n"
     ]
    }
   ],
   "source": [
    "print (Part1 + Part2 + Part3)"
   ]
  },
  {
   "cell_type": "code",
   "execution_count": null,
   "id": "dd1fc652-12f8-422c-92de-20e7096b7f22",
   "metadata": {},
   "outputs": [],
   "source": [
    "# Short sentence 2"
   ]
  },
  {
   "cell_type": "code",
   "execution_count": 46,
   "id": "37f244e3-ed4f-4192-9abe-3ee95d77bab3",
   "metadata": {},
   "outputs": [],
   "source": [
    "Start = \"I \""
   ]
  },
  {
   "cell_type": "code",
   "execution_count": 47,
   "id": "7b6b7f11-949b-417d-8da0-e35d7c008f0d",
   "metadata": {},
   "outputs": [],
   "source": [
    "Middle = \"love \""
   ]
  },
  {
   "cell_type": "code",
   "execution_count": 48,
   "id": "c379ffbb-a5e3-45cb-ae6b-eebb9858de1d",
   "metadata": {},
   "outputs": [],
   "source": [
    "End = \"data analysis!\""
   ]
  },
  {
   "cell_type": "code",
   "execution_count": 49,
   "id": "419666be-67db-4372-a003-e0590c312946",
   "metadata": {},
   "outputs": [
    {
     "name": "stdout",
     "output_type": "stream",
     "text": [
      "I love data analysis!\n"
     ]
    }
   ],
   "source": [
    "print (Start + Middle + End)"
   ]
  },
  {
   "cell_type": "code",
   "execution_count": null,
   "id": "dc3b7b53-db7c-41fe-aafe-f75924f498a7",
   "metadata": {},
   "outputs": [],
   "source": [
    "#Repeat word 100 times"
   ]
  },
  {
   "cell_type": "code",
   "execution_count": 50,
   "id": "673f4051-d70f-4458-98c4-26c8a42a0662",
   "metadata": {},
   "outputs": [
    {
     "name": "stdout",
     "output_type": "stream",
     "text": [
      "TurtlesTurtlesTurtlesTurtlesTurtlesTurtlesTurtlesTurtlesTurtlesTurtlesTurtlesTurtlesTurtlesTurtlesTurtlesTurtlesTurtlesTurtlesTurtlesTurtlesTurtlesTurtlesTurtlesTurtlesTurtlesTurtlesTurtlesTurtlesTurtlesTurtlesTurtlesTurtlesTurtlesTurtlesTurtlesTurtlesTurtlesTurtlesTurtlesTurtlesTurtlesTurtlesTurtlesTurtlesTurtlesTurtlesTurtlesTurtlesTurtlesTurtlesTurtlesTurtlesTurtlesTurtlesTurtlesTurtlesTurtlesTurtlesTurtlesTurtlesTurtlesTurtlesTurtlesTurtlesTurtlesTurtlesTurtlesTurtlesTurtlesTurtlesTurtlesTurtlesTurtlesTurtlesTurtlesTurtlesTurtlesTurtlesTurtlesTurtlesTurtlesTurtlesTurtlesTurtlesTurtlesTurtlesTurtlesTurtlesTurtlesTurtlesTurtlesTurtlesTurtlesTurtlesTurtlesTurtlesTurtlesTurtlesTurtlesTurtles\n"
     ]
    }
   ],
   "source": [
    "print (\"Turtles\" *100)"
   ]
  },
  {
   "cell_type": "code",
   "execution_count": null,
   "id": "0531a35c-afb8-42e6-8072-0ca07e952573",
   "metadata": {},
   "outputs": [],
   "source": [
    "# Additional Practices"
   ]
  },
  {
   "cell_type": "code",
   "execution_count": 2,
   "id": "90ed3d54-fecd-4c1d-8659-e8076bab2029",
   "metadata": {},
   "outputs": [],
   "source": [
    "x = 2"
   ]
  },
  {
   "cell_type": "code",
   "execution_count": 3,
   "id": "aa687cb5-5755-4d9a-bd45-b1c77c939d73",
   "metadata": {},
   "outputs": [
    {
     "data": {
      "text/plain": [
       "2"
      ]
     },
     "execution_count": 3,
     "metadata": {},
     "output_type": "execute_result"
    }
   ],
   "source": [
    "x"
   ]
  },
  {
   "cell_type": "code",
   "execution_count": 4,
   "id": "32b5c6f8-c02a-4aee-84ae-75596d680c10",
   "metadata": {},
   "outputs": [
    {
     "name": "stdout",
     "output_type": "stream",
     "text": [
      "2\n"
     ]
    }
   ],
   "source": [
    "print(x)"
   ]
  },
  {
   "cell_type": "code",
   "execution_count": 5,
   "id": "eb1bd8b7-15e2-4bf9-896f-43d5dd5bf77e",
   "metadata": {},
   "outputs": [
    {
     "data": {
      "text/plain": [
       "int"
      ]
     },
     "execution_count": 5,
     "metadata": {},
     "output_type": "execute_result"
    }
   ],
   "source": [
    "type(x)"
   ]
  },
  {
   "cell_type": "code",
   "execution_count": 6,
   "id": "4f0cae45-f04a-4404-b41b-c239ce86a308",
   "metadata": {},
   "outputs": [],
   "source": [
    "y = 5.678"
   ]
  },
  {
   "cell_type": "code",
   "execution_count": 7,
   "id": "8565b5f3-8c81-48e4-ae0d-bf3a7a088aac",
   "metadata": {},
   "outputs": [
    {
     "data": {
      "text/plain": [
       "float"
      ]
     },
     "execution_count": 7,
     "metadata": {},
     "output_type": "execute_result"
    }
   ],
   "source": [
    "type(y)"
   ]
  },
  {
   "cell_type": "code",
   "execution_count": 8,
   "id": "ccf5d207-e9fc-4857-89f5-e8f0f330ee5c",
   "metadata": {},
   "outputs": [],
   "source": [
    "z = 'Brazil'"
   ]
  },
  {
   "cell_type": "code",
   "execution_count": 9,
   "id": "6d13f8c1-71ce-484b-b857-78ecc01ce0ee",
   "metadata": {},
   "outputs": [
    {
     "data": {
      "text/plain": [
       "str"
      ]
     },
     "execution_count": 9,
     "metadata": {},
     "output_type": "execute_result"
    }
   ],
   "source": [
    "type(z)"
   ]
  },
  {
   "cell_type": "code",
   "execution_count": 10,
   "id": "bd453dd3-8075-48ca-8306-20f0db2e0766",
   "metadata": {},
   "outputs": [
    {
     "data": {
      "text/plain": [
       "str"
      ]
     },
     "execution_count": 10,
     "metadata": {},
     "output_type": "execute_result"
    }
   ],
   "source": [
    "type('Mania')"
   ]
  },
  {
   "cell_type": "code",
   "execution_count": 11,
   "id": "d94abfbb-e692-491b-917e-76c3c90e114c",
   "metadata": {},
   "outputs": [
    {
     "data": {
      "text/plain": [
       "bool"
      ]
     },
     "execution_count": 11,
     "metadata": {},
     "output_type": "execute_result"
    }
   ],
   "source": [
    "type(True)"
   ]
  },
  {
   "cell_type": "code",
   "execution_count": 12,
   "id": "1579a28e-3f0c-44ee-baee-4e039875b424",
   "metadata": {},
   "outputs": [
    {
     "data": {
      "text/plain": [
       "bool"
      ]
     },
     "execution_count": 12,
     "metadata": {},
     "output_type": "execute_result"
    }
   ],
   "source": [
    "type(False)"
   ]
  },
  {
   "cell_type": "code",
   "execution_count": 13,
   "id": "285efed8-135a-425d-80e9-4cd87609d413",
   "metadata": {},
   "outputs": [
    {
     "data": {
      "text/plain": [
       "6"
      ]
     },
     "execution_count": 13,
     "metadata": {},
     "output_type": "execute_result"
    }
   ],
   "source": [
    "x + 4"
   ]
  },
  {
   "cell_type": "code",
   "execution_count": 14,
   "id": "900227c1-8f20-4973-942e-83491cdb61e9",
   "metadata": {},
   "outputs": [
    {
     "data": {
      "text/plain": [
       "7.678"
      ]
     },
     "execution_count": 14,
     "metadata": {},
     "output_type": "execute_result"
    }
   ],
   "source": [
    "x + y"
   ]
  },
  {
   "cell_type": "code",
   "execution_count": 15,
   "id": "4da8a2c5-ba6a-4479-9934-7ef2aeca5061",
   "metadata": {},
   "outputs": [],
   "source": [
    "x = x + 4"
   ]
  },
  {
   "cell_type": "code",
   "execution_count": 16,
   "id": "3ac8dddc-d20d-4ebc-b146-d26a56d70eb2",
   "metadata": {},
   "outputs": [
    {
     "name": "stdout",
     "output_type": "stream",
     "text": [
      "6\n"
     ]
    }
   ],
   "source": [
    "print(x)"
   ]
  },
  {
   "cell_type": "code",
   "execution_count": 17,
   "id": "f0cd1c82-2f8b-48ed-83e5-b4a6cf6e327c",
   "metadata": {},
   "outputs": [],
   "source": [
    "a = 'Hello,'"
   ]
  },
  {
   "cell_type": "code",
   "execution_count": 18,
   "id": "42cc7f97-79a9-4a6b-8522-5f03fe22e30e",
   "metadata": {},
   "outputs": [],
   "source": [
    "b = 'Marley'"
   ]
  },
  {
   "cell_type": "code",
   "execution_count": 19,
   "id": "6e90c04f-54a4-4ee8-b481-610416a6276a",
   "metadata": {},
   "outputs": [
    {
     "data": {
      "text/plain": [
       "'Hello,Marley'"
      ]
     },
     "execution_count": 19,
     "metadata": {},
     "output_type": "execute_result"
    }
   ],
   "source": [
    "a + b"
   ]
  },
  {
   "cell_type": "code",
   "execution_count": 20,
   "id": "420f264b-6a33-4fb4-89f7-6461f475f349",
   "metadata": {},
   "outputs": [],
   "source": [
    "n = 'potato'"
   ]
  },
  {
   "cell_type": "code",
   "execution_count": 21,
   "id": "3fffe5ba-1fdf-4587-bcd3-00a7956f896f",
   "metadata": {},
   "outputs": [
    {
     "data": {
      "text/plain": [
       "'potatopotatopotatopotatopotatopotatopotatopotatopotatopotatopotatopotato'"
      ]
     },
     "execution_count": 21,
     "metadata": {},
     "output_type": "execute_result"
    }
   ],
   "source": [
    "n * 12"
   ]
  },
  {
   "cell_type": "code",
   "execution_count": 22,
   "id": "caade735-1809-492f-abb7-b2731a44475f",
   "metadata": {},
   "outputs": [
    {
     "data": {
      "text/plain": [
       "False"
      ]
     },
     "execution_count": 22,
     "metadata": {},
     "output_type": "execute_result"
    }
   ],
   "source": [
    "x == y"
   ]
  },
  {
   "cell_type": "code",
   "execution_count": 23,
   "id": "6ff8ec92-fe8b-40b0-a9e3-6749c905bd73",
   "metadata": {},
   "outputs": [
    {
     "data": {
      "text/plain": [
       "bool"
      ]
     },
     "execution_count": 23,
     "metadata": {},
     "output_type": "execute_result"
    }
   ],
   "source": [
    "type(x == y)"
   ]
  },
  {
   "cell_type": "code",
   "execution_count": null,
   "id": "0d8d64dd-9c5b-41bc-9df3-13b446862194",
   "metadata": {},
   "outputs": [],
   "source": []
  }
 ],
 "metadata": {
  "kernelspec": {
   "display_name": "Python [conda env:base] *",
   "language": "python",
   "name": "conda-base-py"
  },
  "language_info": {
   "codemirror_mode": {
    "name": "ipython",
    "version": 3
   },
   "file_extension": ".py",
   "mimetype": "text/x-python",
   "name": "python",
   "nbconvert_exporter": "python",
   "pygments_lexer": "ipython3",
   "version": "3.12.7"
  }
 },
 "nbformat": 4,
 "nbformat_minor": 5
}
